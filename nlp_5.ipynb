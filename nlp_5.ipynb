{
 "cells": [
  {
   "cell_type": "markdown",
   "metadata": {},
   "source": [
    "5. Работа с векторами слов"
   ]
  },
  {
   "cell_type": "markdown",
   "metadata": {},
   "source": [
    "стр 100"
   ]
  },
  {
   "cell_type": "markdown",
   "metadata": {},
   "source": [
    "Наборы вещественных чисел, отражающие смысл слов естественного языка, называются векторами слов:"
   ]
  },
  {
   "cell_type": "markdown",
   "metadata": {},
   "source": [
    "В этой главе векторы слов будут использоваться для вычисления семантического подобия различных текстов, что позволит категоризировать тексты в соответствии с их тематикой."
   ]
  },
  {
   "cell_type": "markdown",
   "metadata": {},
   "source": [
    "Пространство векторов слов можно представить в виде облака, где векторы располагаются тем ближе, чем ближе значения"
   ]
  },
  {
   "cell_type": "markdown",
   "metadata": {},
   "source": [
    "#### Метод similarity"
   ]
  },
  {
   "cell_type": "markdown",
   "metadata": {},
   "source": [
    "similarity, который используется для вычисления оценки семантического подобия двух объектов-контейнеров произвольного типа посредством сравнения их векторов слов."
   ]
  },
  {
   "cell_type": "code",
   "execution_count": 4,
   "metadata": {},
   "outputs": [],
   "source": [
    "import spacy as sp\n",
    "nlp = sp.load('ru_core_news_lg')"
   ]
  },
  {
   "cell_type": "code",
   "execution_count": 5,
   "metadata": {},
   "outputs": [],
   "source": [
    "doc = nlp(\"Я хочу на море\")\n",
    "clice = doc[2:5] # на море"
   ]
  },
  {
   "cell_type": "code",
   "execution_count": 6,
   "metadata": {},
   "outputs": [
    {
     "data": {
      "text/plain": [
       "0.9103373697881717"
      ]
     },
     "execution_count": 6,
     "metadata": {},
     "output_type": "execute_result"
    }
   ],
   "source": [
    "doc.similarity(clice) # схожесть от 0 до 1. 0,88 очень высоко"
   ]
  },
  {
   "cell_type": "code",
   "execution_count": 7,
   "metadata": {},
   "outputs": [],
   "source": [
    "doc2=nlp('Я хочу на мандарин')"
   ]
  },
  {
   "cell_type": "code",
   "execution_count": 8,
   "metadata": {},
   "outputs": [
    {
     "data": {
      "text/plain": [
       "0.720314515118873"
      ]
     },
     "execution_count": 8,
     "metadata": {},
     "output_type": "execute_result"
    }
   ],
   "source": [
    "doc.similarity(doc2)"
   ]
  },
  {
   "cell_type": "markdown",
   "metadata": {},
   "source": [
    "// можно сравнивать почти что угодно. doc и span// token и span\n",
    "\n",
    "c.м стр 105\n"
   ]
  },
  {
   "cell_type": "markdown",
   "metadata": {},
   "source": [
    "Метод similarity() распознает слова, которые относятся к одной или нескольким близким категориям и часто встречаются во взаимосвязанных контекстах, а также возвращает для подобных слов высокие значения уровня подобия."
   ]
  },
  {
   "cell_type": "markdown",
   "metadata": {},
   "source": [
    "Метод similarity берет на себя вычисление семантического подобия, но для извлечения пользы из этих расчетов необходимо подобрать правильные ключевые слова для сравнения."
   ]
  },
  {
   "cell_type": "code",
   "execution_count": 9,
   "metadata": {},
   "outputs": [
    {
     "data": {
      "text/plain": [
       "<generator at 0x1bcc6d94ae0>"
      ]
     },
     "execution_count": 9,
     "metadata": {},
     "output_type": "execute_result"
    }
   ],
   "source": [
    "doc.noun_chunks"
   ]
  },
  {
   "cell_type": "markdown",
   "metadata": {},
   "source": [
    "##### Выбор ключевых слов для вычисления семантического подобия"
   ]
  },
  {
   "cell_type": "markdown",
   "metadata": {},
   "source": [
    "Например если нужно искать в тексте главную мысль о том, где растут яблоки; то нужно будет сравнивать слово географичесокй категории(и/или фруктовой) с кусками исходного текста и искать большую близость "
   ]
  },
  {
   "cell_type": "markdown",
   "metadata": {},
   "source": [
    "#### Установка пакетов векторов слов"
   ]
  },
  {
   "cell_type": "markdown",
   "metadata": {},
   "source": [
    "Если в среде Python установлена модель spaCy, векторы слов можно использовать сразу. Но не забывайте, что есть возможность установить сторонний пакет векторов слов. Разные статистические модели используют различные векторы слов, поэтому результаты операций могут незначительно отличаться в зависимости от используемой модели. Испытайте несколько моделей, чтобы выяснить, какая из них лучше подходит для вашего конкретного приложения."
   ]
  },
  {
   "cell_type": "markdown",
   "metadata": {},
   "source": [
    "#### Пользуемся векторами слов, прилагаемыми к моделям spaCy"
   ]
  },
  {
   "cell_type": "markdown",
   "metadata": {},
   "source": [
    "#### Применение семантического подобия для задач категоризации"
   ]
  },
  {
   "cell_type": "markdown",
   "metadata": {},
   "source": [
    "допустим есть три предложения. Необходимо выбрать из них, то, которое связано с фруктами."
   ]
  },
  {
   "cell_type": "code",
   "execution_count": 20,
   "metadata": {},
   "outputs": [],
   "source": [
    "text = \"Хочу жить в доме на дереве. n\\\n",
    "Мне не нравтся ваша идея,статья полный бред. n\\\n",
    "Хочу скушать апельсин и посадить его в своем саду.\""
   ]
  },
  {
   "cell_type": "markdown",
   "metadata": {},
   "source": [
    "1 и самый простой способо - сравнить слово \"фрукты\" с каждым предложением и выбрать наиболльшее подоюие "
   ]
  },
  {
   "cell_type": "code",
   "execution_count": 21,
   "metadata": {},
   "outputs": [
    {
     "name": "stdout",
     "output_type": "stream",
     "text": [
      "Хочу жить в доме на дереве.\n",
      "similarity to фрукты is 0.15878769755363464 \n",
      "\n",
      "nМне не нравтся ваша идея,статья полный бред.\n",
      "similarity to фрукты is 0.05543072894215584 \n",
      "\n",
      "nХочу скушать апельсин и посадить его в своем саду.\n",
      "similarity to фрукты is 0.3621806800365448 \n",
      "\n"
     ]
    }
   ],
   "source": [
    "doc = nlp(text)\n",
    "marker = nlp(\"фрукты\")[0]\n",
    "for sent in doc.sents: # идём по предложениям\n",
    "    print(sent.text)\n",
    "    print('similarity to', marker.text, 'is', marker.similarity(sent),'\\n')"
   ]
  },
  {
   "cell_type": "markdown",
   "metadata": {},
   "source": [
    "Видно, что если выбрать максимльную similitart, то результат будет верным"
   ]
  },
  {
   "cell_type": "markdown",
   "metadata": {},
   "source": [
    "Но видно, что сценарий показывает, что сходство есть и с первым предложением"
   ]
  },
  {
   "cell_type": "markdown",
   "metadata": {},
   "source": [
    "Но обратите внимание: сценарий также определил, что с фруктами в какой-то степени связано и третье предложение. Вероятно, это произошло из-за слова tree — ведь многие фрукты растут на деревьях. Наивно полагать, что алгоритм вычисления подобия «знает», что апельсин и цитрус — фрукты. Ему известно только то, что соответствующие слова (orange и citrus) часто встречаются в одном контексте со словом fruit, а значит, они должны быть близки в пространстве векторов слов. Но слово tree также нередко встречается в одном контексте со словом fruit. Например, в текстах вполне можно встретить фразу fruit tree. Поэтому степень подобия слова fruits (и его леммы — слова fruit) и слова tree близка к результату, полученному для слов citrus и fruits."
   ]
  },
  {
   "cell_type": "markdown",
   "metadata": {},
   "source": [
    "если текст большой, его будет сложно сравнивать для категоризации. Поэтому ему требуется предварительная обработка. Выделить из текста значимые слова."
   ]
  },
  {
   "cell_type": "markdown",
   "metadata": {},
   "source": [
    "#### Выделение существительных как шаг предварительной обработки"
   ]
  },
  {
   "cell_type": "markdown",
   "metadata": {},
   "source": [
    "не всегда нужно выделять существиетльнве. иногда полезно выделять и глаголы."
   ]
  },
  {
   "cell_type": "code",
   "execution_count": 22,
   "metadata": {},
   "outputs": [],
   "source": [
    "text = \"Хочу жить в доме на дереве. n\\\n",
    "Мне не нравтся ваша идея,статья полный бред. n\\\n",
    "Хочу скушать апельсин и посадить его в своем саду.\""
   ]
  },
  {
   "cell_type": "code",
   "execution_count": 30,
   "metadata": {},
   "outputs": [
    {
     "name": "stdout",
     "output_type": "stream",
     "text": [
      "0 доме дереве\n",
      "1 идея статья бред\n",
      "2 апельсин саду\n",
      "{0: 0.16821357624654942, 1: -0.03267072353415493, 2: 0.4680054051381411}\n"
     ]
    }
   ],
   "source": [
    "doc = nlp(text)\n",
    "marker = nlp(\"фрукты\")[0]\n",
    "similarity = {}\n",
    "for i, sent in enumerate(doc.sents):\n",
    "     noun_span_list = [sent[j].text for j in range(len(sent)) if sent[j].pos_ == 'NOUN']\n",
    "     noun_span_str = ' '.join(noun_span_list)\n",
    "     print(i,noun_span_str)\n",
    "     noun_span_doc = nlp(noun_span_str)\n",
    "     similarity.update({i:marker.similarity(noun_span_doc)})\n",
    "\n",
    "\n",
    "print(similarity)\n",
    "\n"
   ]
  },
  {
   "cell_type": "markdown",
   "metadata": {},
   "source": [
    "Видно, что фрукты тепрь предложения с фруктами теперь определяются лучше. "
   ]
  },
  {
   "cell_type": "markdown",
   "metadata": {},
   "source": [
    "попробуем сравнивать каждое существительное в предложение и определять, какое из них больше приближено к marker - это значение и возьмём за оценку близости предложения к результату"
   ]
  },
  {
   "cell_type": "code",
   "execution_count": 38,
   "metadata": {},
   "outputs": [
    {
     "name": "stdout",
     "output_type": "stream",
     "text": [
      "0 ['доме', 'дереве']\n",
      "[0.10583904385566711, 0.1570703387260437]\n",
      "1 ['идея', 'статья', 'бред']\n",
      "[0.011179545894265175, -0.045194111764431, -0.030149759724736214]\n",
      "2 ['апельсин', 'саду']\n",
      "[0.37877795100212097, 0.32962870597839355]\n",
      "{0: 0.1570703387260437, 1: 0.011179545894265175, 2: 0.37877795100212097}\n"
     ]
    }
   ],
   "source": [
    "doc = nlp(text)\n",
    "marker = nlp(\"фрукты\")[0]\n",
    "similarity = {}\n",
    "out_chunk = {} # слова наиболее полезные для определения категории текстав в целом\n",
    "for i, sent in enumerate(doc.sents):\n",
    "     rate = []\n",
    "     noun_span_list = [sent[j].text for j in range(len(sent)) if sent[j].pos_ == 'NOUN']\n",
    "     print(i,noun_span_list)\n",
    "     for j, chunk in enumerate(noun_span_list):\n",
    "        item_doc = nlp(chunk)[0]\n",
    "        rate.append(marker.similarity(item_doc))\n",
    "\n",
    "     print(rate)\n",
    "     similarity.update({i:max(rate)})\n",
    "     # + запишем словов наиболее полезное в словарь - out_chunk\n",
    "\n",
    "\n",
    "print(similarity)\n"
   ]
  },
  {
   "cell_type": "markdown",
   "metadata": {},
   "source": [
    "#### Выделение и сравнение именованных сущностей"
   ]
  },
  {
   "cell_type": "markdown",
   "metadata": {},
   "source": [
    "В некоторых случаях вместо выделения всех существительных из сравниваемых текстов имеет смысл выделять лишь определенный вид, например именованные сущности."
   ]
  },
  {
   "cell_type": "code",
   "execution_count": 53,
   "metadata": {},
   "outputs": [],
   "source": [
    "doc1 = nlp(\"Гугл это компания по поиску инормации в интернете. n\\\n",
    "     Пользователи часто пользуются Гугл, чтобы найти что-нибудь \")\n",
    "\n",
    "doc2 = nlp(\"Винда это симейство операционных систем созданное майрософт. n\\\n",
    "    Компания также производить много софта для компьютеров. \")\n",
    "\n",
    "doc3 = nlp(\"Эльбрус это самая высока гора в европе. Многие путешествиники мечтают побывать n\\\n",
    "    на его склонах. \")\n",
    "\n",
    "# попробуем определить, какой текст связан с технологиями. ДЛя этого используем именованные\n",
    "# сущности   "
   ]
  },
  {
   "cell_type": "code",
   "execution_count": 54,
   "metadata": {},
   "outputs": [
    {
     "name": "stdout",
     "output_type": "stream",
     "text": [
      "['Гугл']\n",
      "[]\n",
      "['европе']\n"
     ]
    }
   ],
   "source": [
    "docs = [doc1,doc2,doc3]\n",
    "\n",
    "spans = {}\n",
    "for j, doc in enumerate(docs):\n",
    "    named_entity_span = [doc[i].text for i in range(len(doc)) if doc[i].ent_type != 0]\n",
    "    print(named_entity_span)\n",
    "    named_entity_span = ' '.join(named_entity_span)\n",
    "    named_entity_span = nlp(named_entity_span)\n",
    "    spans.update({j:named_entity_span})\n"
   ]
  },
  {
   "cell_type": "code",
   "execution_count": 55,
   "metadata": {},
   "outputs": [
    {
     "name": "stdout",
     "output_type": "stream",
     "text": [
      "doc1 is similar to doc2: 0.0\n",
      "doc1 is similar to doc3: 0.0\n",
      "doc2 is similar to doc3: 0.0\n"
     ]
    },
    {
     "name": "stderr",
     "output_type": "stream",
     "text": [
      "<ipython-input-55-3ba975a8ccfc>:1: UserWarning: [W008] Evaluating Doc.similarity based on empty vectors.\n",
      "  print('doc1 is similar to doc2:',spans[0].similarity(spans[1]))\n",
      "<ipython-input-55-3ba975a8ccfc>:2: UserWarning: [W008] Evaluating Doc.similarity based on empty vectors.\n",
      "  print('doc1 is similar to doc3:',spans[0].similarity(spans[2]))\n",
      "<ipython-input-55-3ba975a8ccfc>:3: UserWarning: [W008] Evaluating Doc.similarity based on empty vectors.\n",
      "  print('doc2 is similar to doc3:',spans[1].similarity(spans[2]))\n"
     ]
    }
   ],
   "source": [
    "print('doc1 is similar to doc2:',spans[0].similarity(spans[1]))\n",
    "print('doc1 is similar to doc3:',spans[0].similarity(spans[2]))\n",
    "print('doc2 is similar to doc3:',spans[1].similarity(spans[2]))"
   ]
  },
  {
   "cell_type": "markdown",
   "metadata": {},
   "source": [
    "#### Резюме\n",
    "В этой главе вам довелось поработать с векторами слов — вещественными векторами, отражающими значение слов. Благодаря подобному представлению можно математически определять семантическое подобие языковых единиц, что очень важно при категоризации текстов.\n",
    "Но для успешной работы этого математического подхода необходима предварительная обработка текстов: с ее помощью можно свести текст до наиболее важных для его смысла слов. Если текст очень большой, стоит выбрать из него именованные сущности, поскольку они лучше всего описывают категорию, к которой этот текст следует отнести."
   ]
  },
  {
   "cell_type": "markdown",
   "metadata": {},
   "source": []
  }
 ],
 "metadata": {
  "kernelspec": {
   "display_name": "Python 3.9.0 64-bit",
   "language": "python",
   "name": "python3"
  },
  "language_info": {
   "codemirror_mode": {
    "name": "ipython",
    "version": 3
   },
   "file_extension": ".py",
   "mimetype": "text/x-python",
   "name": "python",
   "nbconvert_exporter": "python",
   "pygments_lexer": "ipython3",
   "version": "3.9.0"
  },
  "orig_nbformat": 4,
  "vscode": {
   "interpreter": {
    "hash": "6ce3869865918335a5f7f8bf564fd081cbfe04ed0827b527a250169e23ceeace"
   }
  }
 },
 "nbformat": 4,
 "nbformat_minor": 2
}
