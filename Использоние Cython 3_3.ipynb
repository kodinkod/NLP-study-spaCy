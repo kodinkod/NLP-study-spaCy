{
 "cells": [
  {
   "cell_type": "markdown",
   "metadata": {},
   "source": [
    "#### Использование структур данных уровня языка C библиотеки spaCy\n"
   ]
  },
  {
   "cell_type": "markdown",
   "metadata": {},
   "source": [
    "Если скорость обработки играет для приложения критическую роль, spaCy позволяет воспользоваться структурами данных\n",
    "и интерфейсами Cython уровня языка C. Cython — один из двух языков\n",
    "программирования, на которых написана библиотека spaCy (второй\n",
    "язык — Python)."
   ]
  },
  {
   "cell_type": "markdown",
   "metadata": {},
   "source": [
    "Помимо функциональности Python, Cython позволяет вызывать функции языка C нативным образом и объявлять типы языка C, благодаря\n",
    "чему компиляторможет генерировать высокоэффективныйкод.Cython\n",
    "стоит использовать для ускорения длительных операций обработки"
   ]
  },
  {
   "cell_type": "code",
   "execution_count": 2,
   "metadata": {},
   "outputs": [],
   "source": [
    "import spacy as sp\n",
    "nlp = sp.load('ru_core_news_sm')"
   ]
  },
  {
   "cell_type": "code",
   "execution_count": null,
   "metadata": {},
   "outputs": [],
   "source": [
    "# do >>> pip install Cython\n",
    "\n",
    "#После подготовки установочного сценария компилируем код Cython. Сделать это можно из системного терминала:\n",
    "#>>> python setup.py build_ext --inplace\n",
    "\n"
   ]
  },
  {
   "cell_type": "markdown",
   "metadata": {},
   "source": [
    "Для тестирования обработки большой информации скачем библию и накопируем её много раз\n",
    "\n"
   ]
  },
  {
   "cell_type": "markdown",
   "metadata": {},
   "source": [
    "Код на языке Cython, в отличие от написанного на Python, необходимо компилировать. Сделать это можно несколькими способами, но лучше всего написать сценарий Python setup.py для distutils/setuptools. Создаем файл setup.py в каталоге, где располагается наш сценарий Cython. Файл должен содержать следующий код:\n",
    "from distutils.core import setup\n",
    "from Cython.Build import cythonize\n"
   ]
  },
  {
   "cell_type": "code",
   "execution_count": 1,
   "metadata": {},
   "outputs": [],
   "source": [
    "from spacytext import main"
   ]
  },
  {
   "cell_type": "code",
   "execution_count": 4,
   "metadata": {},
   "outputs": [],
   "source": [
    "import spacy\n",
    "nlp = spacy.load('en_core_web_sm')\n",
    "f = open(\"bible.txt\",\"rb\")\n",
    "contents = f.read()\n",
    "doc = nlp(contents[:100000].decode('utf8'))"
   ]
  },
  {
   "cell_type": "code",
   "execution_count": 5,
   "metadata": {},
   "outputs": [
    {
     "name": "stdout",
     "output_type": "stream",
     "text": [
      "23417\n",
      "1585\n"
     ]
    }
   ],
   "source": [
    "main(doc)  # общее число тоукнов, кол-во личных местоимений в тексте "
   ]
  },
  {
   "cell_type": "markdown",
   "metadata": {},
   "source": [
    "#### Резюме\n",
    "В этой главе мы рассмотрели важнейшие объекты-контейнеры библиотеки spaCy. Кроме того, вы научились настраивать компоненты конвейера под свои нужды, а также использовать структуры данных и интерфейсы уровня языка C из Cython."
   ]
  },
  {
   "cell_type": "code",
   "execution_count": null,
   "metadata": {},
   "outputs": [],
   "source": []
  }
 ],
 "metadata": {
  "kernelspec": {
   "display_name": "Python 3.9.0 64-bit",
   "language": "python",
   "name": "python3"
  },
  "language_info": {
   "codemirror_mode": {
    "name": "ipython",
    "version": 3
   },
   "file_extension": ".py",
   "mimetype": "text/x-python",
   "name": "python",
   "nbconvert_exporter": "python",
   "pygments_lexer": "ipython3",
   "version": "3.9.0"
  },
  "orig_nbformat": 4,
  "vscode": {
   "interpreter": {
    "hash": "6ce3869865918335a5f7f8bf564fd081cbfe04ed0827b527a250169e23ceeace"
   }
  }
 },
 "nbformat": 4,
 "nbformat_minor": 2
}
